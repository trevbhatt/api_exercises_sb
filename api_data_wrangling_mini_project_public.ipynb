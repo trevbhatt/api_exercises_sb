{
 "cells": [
  {
   "cell_type": "markdown",
   "metadata": {},
   "source": [
    "This exercise will require you to pull some data from the Qunadl API. Qaundl is currently the most widely used aggregator of financial market data."
   ]
  },
  {
   "cell_type": "markdown",
   "metadata": {},
   "source": [
    "As a first step, you will need to register a free account on the http://www.quandl.com website."
   ]
  },
  {
   "cell_type": "markdown",
   "metadata": {},
   "source": [
    "After you register, you will be provided with a unique API key, that you should store:"
   ]
  },
  {
   "cell_type": "code",
   "execution_count": 175,
   "metadata": {},
   "outputs": [],
   "source": [
    "# Store the API key as a string - according to PEP8, constants are always named in all upper case\n",
    "API_KEY = ''"
   ]
  },
  {
   "cell_type": "markdown",
   "metadata": {},
   "source": [
    "Qaundl has a large number of data sources, but, unfortunately, most of them require a Premium subscription. Still, there are also a good number of free datasets."
   ]
  },
  {
   "cell_type": "markdown",
   "metadata": {},
   "source": [
    "For this mini project, we will focus on equities data from the Frankfurt Stock Exhange (FSE), which is available for free. We'll try and analyze the stock prices of a company called Carl Zeiss Meditec, which manufactures tools for eye examinations, as well as medical lasers for laser eye surgery: https://www.zeiss.com/meditec/int/home.html. The company is listed under the stock ticker AFX_X."
   ]
  },
  {
   "cell_type": "markdown",
   "metadata": {},
   "source": [
    "You can find the detailed Quandl API instructions here: https://docs.quandl.com/docs/time-series"
   ]
  },
  {
   "cell_type": "markdown",
   "metadata": {},
   "source": [
    "While there is a dedicated Python package for connecting to the Quandl API, we would prefer that you use the *requests* package, which can be easily downloaded using *pip* or *conda*. You can find the documentation for the package here: http://docs.python-requests.org/en/master/ "
   ]
  },
  {
   "cell_type": "markdown",
   "metadata": {},
   "source": [
    "Finally, apart from the *requests* package, you are encouraged to not use any third party Python packages, such as *pandas*, and instead focus on what's available in the Python Standard Library (the *collections* module might come in handy: https://pymotw.com/3/collections/ ).\n",
    "Also, since you won't have access to DataFrames, you are encouraged to us Python's native data structures - preferably dictionaries, though some questions can also be answered using lists.\n",
    "You can read more on these data structures here: https://docs.python.org/3/tutorial/datastructures.html"
   ]
  },
  {
   "cell_type": "markdown",
   "metadata": {},
   "source": [
    "Keep in mind that the JSON responses you will be getting from the API map almost one-to-one to Python's dictionaries. Unfortunately, they can be very nested, so make sure you read up on indexing dictionaries in the documentation provided above."
   ]
  },
  {
   "cell_type": "code",
   "execution_count": 176,
   "metadata": {},
   "outputs": [],
   "source": [
    "# First, import the relevant modules\n",
    "import requests\n",
    "import statistics\n",
    "import json"
   ]
  },
  {
   "cell_type": "code",
   "execution_count": 177,
   "metadata": {},
   "outputs": [],
   "source": [
    "# Now, call the Quandl API and pull out a small sample of the data (only one day) to get a glimpse\n",
    "# into the JSON structure that will be returned\n",
    "quandl = requests.get('https://www.quandl.com/api/v3/datasets/FSE/AFX_X/data.json', params={'api_key':API_KEY})"
   ]
  },
  {
   "cell_type": "code",
   "execution_count": 178,
   "metadata": {},
   "outputs": [
    {
     "name": "stdout",
     "output_type": "stream",
     "text": [
      "['Date', 'Open', 'High', 'Low', 'Close', 'Change', 'Traded Volume', 'Turnover', 'Last Price of the Day', 'Daily Traded Units', 'Daily Turnover']\n",
      "['2019-09-24', 103.6, 105.2, 103.6, 105.0, None, 61623.0, 6452339.0, None, None, None]\n"
     ]
    }
   ],
   "source": [
    "# Inspect the JSON structure of the object you created, and take note of how nested it is,\n",
    "# as well as the overall structure\n",
    "print(quandl.json()['dataset_data']['column_names'])\n",
    "print(quandl.json()['dataset_data']['data'][0])"
   ]
  },
  {
   "cell_type": "markdown",
   "metadata": {},
   "source": [
    "These are your tasks for this mini project:\n",
    "\n",
    "1. Collect data from the Franfurt Stock Exchange, for the ticker AFX_X, for the whole year 2017 (keep in mind that the date format is YYYY-MM-DD).\n",
    "2. Convert the returned JSON object into a Python dictionary.\n",
    "3. Calculate what the highest and lowest opening prices were for the stock in this period.\n",
    "4. What was the largest change in any one day (based on High and Low price)?\n",
    "5. What was the largest change between any two days (based on Closing Price)?\n",
    "6. What was the average daily trading volume during this year?\n",
    "7. (Optional) What was the median trading volume during this year. (Note: you may need to implement your own function for calculating the median.)"
   ]
  },
  {
   "cell_type": "code",
   "execution_count": 179,
   "metadata": {},
   "outputs": [],
   "source": [
    "# 1. Collect data from FSE for AFX_X in 2017\n",
    "start_date = '2017-01-01'\n",
    "end_date = '2017-12-31'\n",
    "afx_x_2017 = requests.get('https://www.quandl.com/api/v3/datasets/FSE/AFX_X/data.json', \n",
    "                      params={\n",
    "                          'api_key':API_KEY, \n",
    "                          'start_date':start_date, \n",
    "                          'end_date':end_date\n",
    "                      })"
   ]
  },
  {
   "cell_type": "code",
   "execution_count": 180,
   "metadata": {},
   "outputs": [
    {
     "name": "stdout",
     "output_type": "stream",
     "text": [
      "<class 'dict'>\n"
     ]
    }
   ],
   "source": [
    "# 2. Convert afx_x_2017 to JSON python dictionary\n",
    "afx_x_2017_dict = afx_x_2017.json()['dataset_data']\n",
    "print(type(afx_x_2017_dict))"
   ]
  },
  {
   "cell_type": "code",
   "execution_count": 181,
   "metadata": {},
   "outputs": [
    {
     "name": "stdout",
     "output_type": "stream",
     "text": [
      "Highest open is $53.11. \n",
      "Lowest open is $34.00.\n"
     ]
    }
   ],
   "source": [
    "# 3. Calculate highest and lowest opening prices\n",
    "\n",
    "# Use a for loop to make the column names into keys of the dictionary\n",
    "#     Initialize empty dict and alias column names\n",
    "afx_dict = {}\n",
    "names = afx_x_2017_dict['column_names']\n",
    "\n",
    "#     Inner loop generates a list of values that correspond to each column name, \n",
    "#     Outer loop adds list as the value for each column name\n",
    "for name in names:\n",
    "    values = []\n",
    "    iname = names.index(name)\n",
    "    for row in afx_x_2017_dict['data']:\n",
    "        values.append(row[iname])\n",
    "    afx_dict[name] = values\n",
    "\n",
    "\n",
    "# Calculate max and min of open. Ignore None values in the data.\n",
    "highest_open = max([i for i in afx_dict['Open'] if i is not None])\n",
    "lowest_open = min([i for i in afx_dict['Open'] if i is not None])\n",
    "\n",
    "print(f'Highest open is ${highest_open:.2f}. \\nLowest open is ${lowest_open:.2f}.', )"
   ]
  },
  {
   "cell_type": "code",
   "execution_count": 182,
   "metadata": {},
   "outputs": [
    {
     "name": "stdout",
     "output_type": "stream",
     "text": [
      "The largest change is $2.81.\n"
     ]
    }
   ],
   "source": [
    "# 4. Calculate largest change in any one day\n",
    "\n",
    "# The best solution would be use numpy arrays, but to avoid using 3rd party modules, use list comprehension\n",
    "# to find the difference between the two columns\n",
    "daily_changes = [a - b for a, b in zip(afx_dict['High'], afx_dict['Low'])]\n",
    "largest_change = max(daily_changes)\n",
    "print(f'The largest change is ${largest_change:.2f}.')"
   ]
  },
  {
   "cell_type": "code",
   "execution_count": 183,
   "metadata": {},
   "outputs": [
    {
     "name": "stdout",
     "output_type": "stream",
     "text": [
      "The largest overnight change is a $2.56 increase.\n"
     ]
    }
   ],
   "source": [
    "# 5. Calculate the largest closing price change between any 2 days.\n",
    "\n",
    "# Use a for loop to create a list of the differences between days, starting with the second day.\n",
    "overnight_changes = []\n",
    "for item in afx_dict['Close'][1:]:\n",
    "    overnight_changes.append(item - afx_dict['Close'][afx_dict['Close'].index(item) - 1])\n",
    "\n",
    "# Find the maximum overnight increase and decrease.\n",
    "pos_max_overnight = max(overnight_changes)\n",
    "neg_max_overnight = min(overnight_changes)\n",
    "\n",
    "# Check if the largest difference is positive or negative and print the result.\n",
    "if abs(neg_max_overnight) > pos_max_overnight:\n",
    "    print(f'The largest overnight change is a ${neg_max_overnight:.2f} decrease.')\n",
    "else:\n",
    "    print(f'The largest overnight change is a ${abs(pos_max_overnight):.2f} increase.')\n",
    "\n"
   ]
  },
  {
   "cell_type": "code",
   "execution_count": 184,
   "metadata": {},
   "outputs": [
    {
     "name": "stdout",
     "output_type": "stream",
     "text": [
      "The mean is 89124.34 units.\n"
     ]
    }
   ],
   "source": [
    "# 6. Find average daily trading volume.\n",
    "\n",
    "# Use statistics module to calculate the mean.\n",
    "avg_volume = statistics.mean(afx_dict['Traded Volume'])\n",
    "print(f'The mean is {avg_volume:.2f} units.')"
   ]
  },
  {
   "cell_type": "code",
   "execution_count": 185,
   "metadata": {},
   "outputs": [
    {
     "name": "stdout",
     "output_type": "stream",
     "text": [
      "The median traded volume is 76286.\n"
     ]
    }
   ],
   "source": [
    "# 7. Find median traded volume.\n",
    "\n",
    "# Find the length of the Traded Volume column\n",
    "median_ref = len(afx_dict['Traded Volume'])\n",
    "\n",
    "# Created a sorted list of Traded Volumes\n",
    "sorted_trade_vol = sorted(afx_dict['Traded Volume'])\n",
    "    \n",
    "# \n",
    "if median_ref % 2 == 0:\n",
    "    median_index_1 = median_ref / 2 -1\n",
    "    median_index_2 = median_index_1 + 1\n",
    "    median_volume = (sorted_trade_vol[median_index_1] + sorted_trade_vol[median_index_2]) / 2\n",
    "else:\n",
    "    median_index = median_ref // 2 \n",
    "    median_volume = sorted_trade_vol[median_index]\n",
    "    \n",
    "print(f'The median traded volume is {median_volume:.0f}.')\n"
   ]
  },
  {
   "cell_type": "code",
   "execution_count": null,
   "metadata": {},
   "outputs": [],
   "source": []
  }
 ],
 "metadata": {
  "kernelspec": {
   "display_name": "Python 3",
   "language": "python",
   "name": "python3"
  },
  "language_info": {
   "codemirror_mode": {
    "name": "ipython",
    "version": 3
   },
   "file_extension": ".py",
   "mimetype": "text/x-python",
   "name": "python",
   "nbconvert_exporter": "python",
   "pygments_lexer": "ipython3",
   "version": "3.7.3"
  }
 },
 "nbformat": 4,
 "nbformat_minor": 2
}
