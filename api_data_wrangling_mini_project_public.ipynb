{
 "cells": [
  {
   "cell_type": "markdown",
   "metadata": {},
   "source": [
    "This exercise will require you to pull some data from the Qunadl API. Qaundl is currently the most widely used aggregator of financial market data."
   ]
  },
  {
   "cell_type": "markdown",
   "metadata": {},
   "source": [
    "As a first step, you will need to register a free account on the http://www.quandl.com website."
   ]
  },
  {
   "cell_type": "markdown",
   "metadata": {},
   "source": [
    "After you register, you will be provided with a unique API key, that you should store:"
   ]
  },
  {
   "cell_type": "code",
   "execution_count": 4,
   "metadata": {},
   "outputs": [],
   "source": [
    "# Store the API key as a string - according to PEP8, constants are always named in all upper case\n",
    "API_KEY = ''"
   ]
  },
  {
   "cell_type": "markdown",
   "metadata": {},
   "source": [
    "Qaundl has a large number of data sources, but, unfortunately, most of them require a Premium subscription. Still, there are also a good number of free datasets."
   ]
  },
  {
   "cell_type": "markdown",
   "metadata": {},
   "source": [
    "For this mini project, we will focus on equities data from the Frankfurt Stock Exhange (FSE), which is available for free. We'll try and analyze the stock prices of a company called Carl Zeiss Meditec, which manufactures tools for eye examinations, as well as medical lasers for laser eye surgery: https://www.zeiss.com/meditec/int/home.html. The company is listed under the stock ticker AFX_X."
   ]
  },
  {
   "cell_type": "markdown",
   "metadata": {},
   "source": [
    "You can find the detailed Quandl API instructions here: https://docs.quandl.com/docs/time-series"
   ]
  },
  {
   "cell_type": "markdown",
   "metadata": {},
   "source": [
    "While there is a dedicated Python package for connecting to the Quandl API, we would prefer that you use the *requests* package, which can be easily downloaded using *pip* or *conda*. You can find the documentation for the package here: http://docs.python-requests.org/en/master/ "
   ]
  },
  {
   "cell_type": "markdown",
   "metadata": {},
   "source": [
    "Finally, apart from the *requests* package, you are encouraged to not use any third party Python packages, such as *pandas*, and instead focus on what's available in the Python Standard Library (the *collections* module might come in handy: https://pymotw.com/3/collections/ ).\n",
    "Also, since you won't have access to DataFrames, you are encouraged to us Python's native data structures - preferably dictionaries, though some questions can also be answered using lists.\n",
    "You can read more on these data structures here: https://docs.python.org/3/tutorial/datastructures.html"
   ]
  },
  {
   "cell_type": "markdown",
   "metadata": {},
   "source": [
    "Keep in mind that the JSON responses you will be getting from the API map almost one-to-one to Python's dictionaries. Unfortunately, they can be very nested, so make sure you read up on indexing dictionaries in the documentation provided above."
   ]
  },
  {
   "cell_type": "code",
   "execution_count": 5,
   "metadata": {},
   "outputs": [],
   "source": [
    "# First, import the relevant modules\n",
    "import requests\n",
    "import statistics\n",
    "import json"
   ]
  },
  {
   "cell_type": "code",
   "execution_count": 6,
   "metadata": {},
   "outputs": [],
   "source": [
    "# Now, call the Quandl API and pull out a small sample of the data (only one day) to get a glimpse\n",
    "# into the JSON structure that will be returned\n",
    "quandl = requests.get('https://www.quandl.com/api/v3/datasets/FSE/AFX_X/data.json', params={'api_key':API_KEY})"
   ]
  },
  {
   "cell_type": "code",
   "execution_count": 7,
   "metadata": {},
   "outputs": [
    {
     "name": "stdout",
     "output_type": "stream",
     "text": [
      "['Date', 'Open', 'High', 'Low', 'Close', 'Change', 'Traded Volume', 'Turnover', 'Last Price of the Day', 'Daily Traded Units', 'Daily Turnover']\n",
      "['2019-09-27', 103.7, 104.0, 102.5, 103.5, None, 74036.0, 7656140.5, None, None, None]\n"
     ]
    }
   ],
   "source": [
    "# Inspect the JSON structure of the object you created, and take note of how nested it is,\n",
    "# as well as the overall structure\n",
    "print(quandl.json()['dataset_data']['column_names'])\n",
    "print(quandl.json()['dataset_data']['data'][0])"
   ]
  },
  {
   "cell_type": "markdown",
   "metadata": {},
   "source": [
    "These are your tasks for this mini project:\n",
    "\n",
    "1. Collect data from the Franfurt Stock Exchange, for the ticker AFX_X, for the whole year 2017 (keep in mind that the date format is YYYY-MM-DD).\n",
    "2. Convert the returned JSON object into a Python dictionary.\n",
    "3. Calculate what the highest and lowest opening prices were for the stock in this period.\n",
    "4. What was the largest change in any one day (based on High and Low price)?\n",
    "5. What was the largest change between any two days (based on Closing Price)?\n",
    "6. What was the average daily trading volume during this year?\n",
    "7. (Optional) What was the median trading volume during this year. (Note: you may need to implement your own function for calculating the median.)"
   ]
  },
  {
   "cell_type": "code",
   "execution_count": 58,
   "metadata": {},
   "outputs": [],
   "source": [
    "# 1. Collect data from FSE for AFX_X in 2017\n",
    "start_date = '2017-01-01'\n",
    "end_date = '2017-12-31'\n",
    "afx_x_2017 = requests.get('https://www.quandl.com/api/v3/datasets/FSE/AFX_X/data.json', \n",
    "                      params={\n",
    "                          'api_key':API_KEY, \n",
    "                          'start_date':start_date, \n",
    "                          'end_date':end_date\n",
    "                      })"
   ]
  },
  {
   "cell_type": "code",
   "execution_count": 59,
   "metadata": {},
   "outputs": [
    {
     "name": "stdout",
     "output_type": "stream",
     "text": [
      "<class 'dict'>\n"
     ]
    }
   ],
   "source": [
    "# 2. Convert afx_x_2017 to JSON python dictionary\n",
    "afx_x_2017_dict = afx_x_2017.json()['dataset_data']\n",
    "print(type(afx_x_2017_dict))"
   ]
  },
  {
   "cell_type": "code",
   "execution_count": 60,
   "metadata": {},
   "outputs": [
    {
     "name": "stdout",
     "output_type": "stream",
     "text": [
      "Highest open is $53.11. \n",
      "Lowest open is $34.00.\n"
     ]
    }
   ],
   "source": [
    "# 3. Calculate highest and lowest opening prices\n",
    "\n",
    "# Extract the data from the dictionary as a list of lists, where each list is a row.\n",
    "data_2017 = afx_x_2017_dict['data']\n",
    "\n",
    "# Use list comprehenstion to extract the values for opens from each row. Skip all None values.\n",
    "opens = [i[1] for i in data_2017 if i[1] is not None]\n",
    "\n",
    "# Find min/max and print.\n",
    "highest_open = max(opens)\n",
    "lowest_open = min(opens)\n",
    "print(f'Highest open is ${highest_open:.2f}. \\nLowest open is ${lowest_open:.2f}.')"
   ]
  },
  {
   "cell_type": "code",
   "execution_count": 61,
   "metadata": {},
   "outputs": [
    {
     "name": "stdout",
     "output_type": "stream",
     "text": [
      "The largest change is $2.81.\n"
     ]
    }
   ],
   "source": [
    "# 4. Calculate largest change in any one day\n",
    "\n",
    "# Use list comprehension to generate a list of the difference between the 3rd and 4th element in each list, \n",
    "# then take the max.\n",
    "largest_change = max([i[2] - i[3] for i in data_2017])\n",
    "print(f'The largest change is ${largest_change:.2f}.')"
   ]
  },
  {
   "cell_type": "code",
   "execution_count": 62,
   "metadata": {},
   "outputs": [
    {
     "name": "stdout",
     "output_type": "stream",
     "text": [
      "The largest overnight change is a $3.55 increase.\n"
     ]
    }
   ],
   "source": [
    "# 5. Calculate the largest closing price change between any 2 days.\n",
    "\n",
    "# Use list comprehension to process the difference between a value in opens and the previous value.\n",
    "overnight_changes = [val - opens[key-1] for key, val in enumerate(opens) \n",
    "                     if val is not None \n",
    "                     and opens[key-1] is not None \n",
    "                     and key > 0]\n",
    "\n",
    "# Find the maximum overnight increase and decrease.\n",
    "pos_max_overnight = max(overnight_changes)\n",
    "neg_max_overnight = min(overnight_changes)\n",
    "\n",
    "# Check if the largest difference is positive or negative and print the result.\n",
    "if abs(neg_max_overnight) > pos_max_overnight:\n",
    "    print(f'The largest overnight change is a ${abs(neg_max_overnight):.2f} decrease.')\n",
    "else:\n",
    "    print(f'The largest overnight change is a ${pos_max_overnight:.2f} increase.')\n"
   ]
  },
  {
   "cell_type": "code",
   "execution_count": 63,
   "metadata": {},
   "outputs": [
    {
     "name": "stdout",
     "output_type": "stream",
     "text": [
      "The mean is 89124.34 units.\n"
     ]
    }
   ],
   "source": [
    "# 6. Find average daily trading volume.\n",
    "\n",
    "# Use a list comprehension to generate a list of the traded volume items.\n",
    "traded_volume = [i[6] for i in data_2017 if i[6] is not None]\n",
    "\n",
    "# Use statistics module to calculate the mean.\n",
    "avg_volume = statistics.mean(traded_volume)\n",
    "print(f'The mean is {avg_volume:.2f} units.')"
   ]
  },
  {
   "cell_type": "code",
   "execution_count": 64,
   "metadata": {},
   "outputs": [
    {
     "name": "stdout",
     "output_type": "stream",
     "text": [
      "The median traded volume is 76286.\n"
     ]
    }
   ],
   "source": [
    "# 7. Find median traded volume.\n",
    "\n",
    "# Use statistics module to calculate the mean of the list generated in the previous cell\n",
    "median_volume = statistics.median(traded_volume)\n",
    "print(f'The median traded volume is {median_volume:.0f}.')"
   ]
  },
  {
   "cell_type": "code",
   "execution_count": null,
   "metadata": {},
   "outputs": [],
   "source": []
  }
 ],
 "metadata": {
  "kernelspec": {
   "display_name": "Python 3",
   "language": "python",
   "name": "python3"
  },
  "language_info": {
   "codemirror_mode": {
    "name": "ipython",
    "version": 3
   },
   "file_extension": ".py",
   "mimetype": "text/x-python",
   "name": "python",
   "nbconvert_exporter": "python",
   "pygments_lexer": "ipython3",
   "version": "3.7.3"
  }
 },
 "nbformat": 4,
 "nbformat_minor": 2
}
